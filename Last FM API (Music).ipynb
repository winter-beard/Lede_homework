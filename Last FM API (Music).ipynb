{
 "cells": [
  {
   "attachments": {},
   "cell_type": "markdown",
   "metadata": {},
   "source": [
    "# Last FM API (Music)\n",
    "\n",
    "Spotify's API is dead to us, so we're using Last.fm's - it's still music, just not as nice of an API.\n",
    "\n",
    "1. Create an account at https://www.last.fm/api/\n",
    "2. Create an \"application\" to get a key: https://www.last.fm/api/account/create\n",
    "    - It isn't a real application, it's just your project\n",
    "    - Name/description doesn't matter, ignore callback key and callback url\n",
    "3. And save the API key that shows up on the next screen\n",
    "\n",
    "You can find documentation at https://www.last.fm/api/\n",
    "\n",
    "The domain for the API is `http://ws.audioscrobbler.com`, so all of your endpoints will be connected to that. To test your API key, check the following URL in your browser: `http://ws.audioscrobbler.com/2.0/?method=artist.search&artist=cher&api_key=XXXXXXXXXXXXXXXXXXXX&format=json` (change the `XXXXXX` to be your API key, of course!).\n",
    "\n",
    "> Last.fm used to be called **AudioScrobbler**, which is why its URLs don't have \"last.fm\" in them.\n",
    "> While we're asking about URLs, notice that the API endpoints have a lot of `?` and `&` in them - these are key/value pairs, kind of like dictionaries, but for URLs instead of Python."
   ]
  },
  {
   "attachments": {},
   "cell_type": "markdown",
   "metadata": {},
   "source": [
    "# FIRST: SETUP"
   ]
  },
  {
   "attachments": {},
   "cell_type": "markdown",
   "metadata": {},
   "source": [
    "## 1) Import the libraries/packages you might need\n",
    "\n",
    "We need a library to read in the data for us! We don't like `urllib2`, so it must be something cooler and better."
   ]
  },
  {
   "cell_type": "code",
   "execution_count": 231,
   "metadata": {},
   "outputs": [],
   "source": [
    "import os \n",
    "import requests\n",
    "import json\n",
    "\n",
    "\n",
    "from dotenv import load_dotenv "
   ]
  },
  {
   "attachments": {},
   "cell_type": "markdown",
   "metadata": {},
   "source": [
    "## 2) Save your API key\n",
    "\n",
    "Write your API key here so you don't forget it - it's the \"api key\" one, not the \"shared secret\" one"
   ]
  },
  {
   "cell_type": "code",
   "execution_count": 232,
   "metadata": {},
   "outputs": [],
   "source": [
    "# Import what you need here\n",
    "\n",
    "\n",
    "load_dotenv()\n",
    "\n",
    "API_KEY = os.getenv(\"API_KEY2\")\n"
   ]
  },
  {
   "attachments": {},
   "cell_type": "markdown",
   "metadata": {},
   "source": [
    "# NOW: YOUR ASSIGNMENT"
   ]
  },
  {
   "attachments": {},
   "cell_type": "markdown",
   "metadata": {},
   "source": [
    "## 1) Search for and print a list of 50 musicians with `lil` in their name, along with the number of listeners they have\n",
    "\n",
    "There are a lot of musicians with \"Lil\" in their name - it used to be all Lil Wayne and Lil Kim, but we live in a new world now!\n",
    "\n",
    "- *Tip: Remember, the domain for the API is `http://ws.audioscrobbler.com`*\n",
    "- *Tip: Make sure you ask the API for 50 musicians! This involves adding another parameter to the URL - notice they all have a `&` before them. [Read the documentation](http://www.last.fm/api/show/artist.search) to find the parameter's name.* \n",
    "- *Tip: When you are looking at any piece of data - is it a dictionary? Look at the keys! Is it a list? Look at the first element!*\n",
    "- *Tip: LOOK AT THE KEYS. and then the other keys and the other keys and the other keys. It's an ugly series of dictionaries!*"
   ]
  },
  {
   "cell_type": "code",
   "execution_count": 233,
   "metadata": {},
   "outputs": [],
   "source": [
    "url = f'http://ws.audioscrobbler.com/2.0/?method=artist.search&artist=lil&api_key={API_KEY}&format=json&limit=50'"
   ]
  },
  {
   "cell_type": "code",
   "execution_count": 234,
   "metadata": {},
   "outputs": [
    {
     "name": "stdout",
     "output_type": "stream",
     "text": [
      "<Response [200]>\n",
      "LIL UZI VERT has 1434033 listeners\n",
      "LIL PEEP has 1123657 listeners\n",
      "Lil Nas X has 1739725 listeners\n",
      "Lil Baby has 879669 listeners\n",
      "Lily Allen has 2677881 listeners\n",
      "Lil Yachty has 956658 listeners\n",
      "Lil' Wayne has 3380032 listeners\n",
      "Lil Tecca has 725686 listeners\n",
      "Lil Wayne has 1027303 listeners\n",
      "Lil Durk has 578396 listeners\n",
      "lil tjay has 574729 listeners\n",
      "lil skies has 490167 listeners\n",
      "Lil Darkie has 322993 listeners\n",
      "Lil Ugly Mane has 259263 listeners\n",
      "lil Mosey has 591080 listeners\n",
      "Lil B has 387581 listeners\n",
      "LIL PUMP has 501240 listeners\n",
      "LIL TRACY has 208021 listeners\n",
      "Lil Keed has 239597 listeners\n",
      "Lil Dicky has 459886 listeners\n",
      "Lil' Kim has 623168 listeners\n",
      "Lil Xan has 323332 listeners\n",
      "Lil Shine has 49197 listeners\n",
      "Lil Loaded has 157008 listeners\n",
      "LIL GNAR has 242852 listeners\n",
      "lilbubblegum has 145260 listeners\n",
      "lil mabu has 159270 listeners\n",
      "Lilypichu has 94857 listeners\n",
      "Lilly Wood & The Prick has 437935 listeners\n",
      "LIL DUSTY G has 133657 listeners\n",
      "Lil Jon & The East Side Boyz has 669355 listeners\n",
      "Lily Chou-Chou has 118094 listeners\n",
      "Lil Revive has 46555 listeners\n",
      "Lil Jon has 697777 listeners\n",
      "Lilac has 260632 listeners\n",
      "Lil Eazzyy has 175158 listeners\n",
      "Fenne Lily has 247585 listeners\n",
      "LIL BO WEEP has 94482 listeners\n",
      "Lil Aaron has 142545 listeners\n",
      "Lil Kleine has 96447 listeners\n",
      "Lil Gotit has 81259 listeners\n",
      "Lily James has 155958 listeners\n",
      "Lil Candy Paint has 125527 listeners\n",
      "Lil Boodang has 120527 listeners\n",
      "Lil Mariko has 98090 listeners\n",
      "Lilly Wood and The Prick has 198067 listeners\n",
      "Lila Downs has 193523 listeners\n",
      "Lil Lotus has 69803 listeners\n",
      "Lil God Dan has 77347 listeners\n",
      "The Tiger Lillies has 125702 listeners\n"
     ]
    }
   ],
   "source": [
    "response = requests.get(url)\n",
    "print(response)\n",
    "\n",
    "data = response.json()\n",
    "listener_total = 0\n",
    "for name in data['results']['artistmatches']['artist']:\n",
    "    print(name['name'], \"has\", name['listeners'], \"listeners\")\n",
    "    listener_total = listener_total + int(name['listeners'])\n",
    "\n"
   ]
  },
  {
   "attachments": {},
   "cell_type": "markdown",
   "metadata": {},
   "source": [
    "Your results should begin something like this:\n",
    "    \n",
    "```\n",
    "Lil' Wayne has 3086628 listeners\n",
    "Lily Allen has 2074266 listeners\n",
    "Lil B has 194116 listeners\n",
    "Lilly Wood & The Prick has 359886 listeners\n",
    "Lil Ugly Mane has 31955 listeners\n",
    "LIL UZI VERT has 88517 listeners\n",
    "```"
   ]
  },
  {
   "attachments": {},
   "cell_type": "markdown",
   "metadata": {},
   "source": [
    "## 2) How many listeners does your list have in total?\n",
    "\n",
    "The answer should be roughly **15,000,000**. If it's lower, make sure you have 50 artists instead of 30 artists.\n",
    "\n",
    "- *Tip: What's the data type of the `listeners` count? It's going to cause a problem!*\n",
    "- *Tip: If you were crazy you could use sum and a list comprehension. But you really don't have to!*"
   ]
  },
  {
   "cell_type": "code",
   "execution_count": 235,
   "metadata": {},
   "outputs": [
    {
     "name": "stdout",
     "output_type": "stream",
     "text": [
      "There are 24,718,566 total listeners\n"
     ]
    }
   ],
   "source": [
    "print(f\"There are {listener_total:,} total listeners\")"
   ]
  },
  {
   "attachments": {},
   "cell_type": "markdown",
   "metadata": {},
   "source": [
    "## 3) Show each artist's name and the URL to the extra-large image\n",
    "\n",
    "The images don't work any more, but we'll print their URLs out anyway."
   ]
  },
  {
   "attachments": {},
   "cell_type": "markdown",
   "metadata": {},
   "source": [
    "Each artist **has a list of images of different sizes**. We're interested in the second-to-last one, where `size` is `extralarge`. Print their name and use `display_image` to display their extra-large image.\n",
    "\n",
    "- *Tip: The URL should look like this: `https://lastfm-img2.akamaized.net/i/u/300x300/0fc7d7a1812dc79e9925d80382cde594.png`*\n",
    "- *Tip: You can always assume it's the second to the last, or assume it's `extralarge`, or whatever you want to do to find it.*\n",
    "- *Tip: Make sure the URL is correct before you try to display it.*\n",
    "\n",
    "Your output should look something like\n",
    "\n",
    "```\n",
    "Lil' Wayne\n",
    "https://lastfm.freetls.fastly.net/i/u/300x300/2a96cbd8b46e442fc41c2b86b821562f.png\n",
    "---\n",
    "LIL UZI VERT\n",
    "https://lastfm.freetls.fastly.net/i/u/300x300/2a96cbd8b46e442fc41c2b86b821562f.png\n",
    "---\n",
    "Lily Allen\n",
    "https://lastfm.freetls.fastly.net/i/u/300x300/2a96cbd8b46e442fc41c2b86b821562f.png\n",
    "---\n",
    "```\n",
    "\n",
    "(but with more people, obviously)"
   ]
  },
  {
   "cell_type": "code",
   "execution_count": 236,
   "metadata": {},
   "outputs": [
    {
     "name": "stdout",
     "output_type": "stream",
     "text": [
      "---\n",
      "LIL UZI VERT\n",
      "https://lastfm.freetls.fastly.net/i/u/300x300/2a96cbd8b46e442fc41c2b86b821562f.png\n",
      "---\n",
      "LIL PEEP\n",
      "https://lastfm.freetls.fastly.net/i/u/300x300/2a96cbd8b46e442fc41c2b86b821562f.png\n",
      "---\n",
      "Lil Nas X\n",
      "https://lastfm.freetls.fastly.net/i/u/300x300/2a96cbd8b46e442fc41c2b86b821562f.png\n",
      "---\n",
      "Lil Baby\n",
      "https://lastfm.freetls.fastly.net/i/u/300x300/2a96cbd8b46e442fc41c2b86b821562f.png\n",
      "---\n",
      "Lily Allen\n",
      "https://lastfm.freetls.fastly.net/i/u/300x300/2a96cbd8b46e442fc41c2b86b821562f.png\n",
      "---\n",
      "Lil Yachty\n",
      "https://lastfm.freetls.fastly.net/i/u/300x300/2a96cbd8b46e442fc41c2b86b821562f.png\n",
      "---\n",
      "Lil' Wayne\n",
      "https://lastfm.freetls.fastly.net/i/u/300x300/2a96cbd8b46e442fc41c2b86b821562f.png\n",
      "---\n",
      "Lil Tecca\n",
      "https://lastfm.freetls.fastly.net/i/u/300x300/2a96cbd8b46e442fc41c2b86b821562f.png\n",
      "---\n",
      "Lil Wayne\n",
      "https://lastfm.freetls.fastly.net/i/u/300x300/2a96cbd8b46e442fc41c2b86b821562f.png\n",
      "---\n",
      "Lil Durk\n",
      "https://lastfm.freetls.fastly.net/i/u/300x300/2a96cbd8b46e442fc41c2b86b821562f.png\n",
      "---\n",
      "lil tjay\n",
      "https://lastfm.freetls.fastly.net/i/u/300x300/2a96cbd8b46e442fc41c2b86b821562f.png\n",
      "---\n",
      "lil skies\n",
      "https://lastfm.freetls.fastly.net/i/u/300x300/2a96cbd8b46e442fc41c2b86b821562f.png\n",
      "---\n",
      "Lil Darkie\n",
      "https://lastfm.freetls.fastly.net/i/u/300x300/2a96cbd8b46e442fc41c2b86b821562f.png\n",
      "---\n",
      "Lil Ugly Mane\n",
      "https://lastfm.freetls.fastly.net/i/u/300x300/2a96cbd8b46e442fc41c2b86b821562f.png\n",
      "---\n",
      "lil Mosey\n",
      "https://lastfm.freetls.fastly.net/i/u/300x300/2a96cbd8b46e442fc41c2b86b821562f.png\n",
      "---\n",
      "Lil B\n",
      "https://lastfm.freetls.fastly.net/i/u/300x300/2a96cbd8b46e442fc41c2b86b821562f.png\n",
      "---\n",
      "LIL PUMP\n",
      "https://lastfm.freetls.fastly.net/i/u/300x300/2a96cbd8b46e442fc41c2b86b821562f.png\n",
      "---\n",
      "LIL TRACY\n",
      "https://lastfm.freetls.fastly.net/i/u/300x300/2a96cbd8b46e442fc41c2b86b821562f.png\n",
      "---\n",
      "Lil Keed\n",
      "https://lastfm.freetls.fastly.net/i/u/300x300/2a96cbd8b46e442fc41c2b86b821562f.png\n",
      "---\n",
      "Lil Dicky\n",
      "https://lastfm.freetls.fastly.net/i/u/300x300/2a96cbd8b46e442fc41c2b86b821562f.png\n",
      "---\n",
      "Lil' Kim\n",
      "https://lastfm.freetls.fastly.net/i/u/300x300/2a96cbd8b46e442fc41c2b86b821562f.png\n",
      "---\n",
      "Lil Xan\n",
      "https://lastfm.freetls.fastly.net/i/u/300x300/2a96cbd8b46e442fc41c2b86b821562f.png\n",
      "---\n",
      "Lil Shine\n",
      "https://lastfm.freetls.fastly.net/i/u/300x300/2a96cbd8b46e442fc41c2b86b821562f.png\n",
      "---\n",
      "Lil Loaded\n",
      "https://lastfm.freetls.fastly.net/i/u/300x300/2a96cbd8b46e442fc41c2b86b821562f.png\n",
      "---\n",
      "LIL GNAR\n",
      "https://lastfm.freetls.fastly.net/i/u/300x300/2a96cbd8b46e442fc41c2b86b821562f.png\n",
      "---\n",
      "lilbubblegum\n",
      "https://lastfm.freetls.fastly.net/i/u/300x300/2a96cbd8b46e442fc41c2b86b821562f.png\n",
      "---\n",
      "lil mabu\n",
      "https://lastfm.freetls.fastly.net/i/u/300x300/2a96cbd8b46e442fc41c2b86b821562f.png\n",
      "---\n",
      "Lilypichu\n",
      "https://lastfm.freetls.fastly.net/i/u/300x300/2a96cbd8b46e442fc41c2b86b821562f.png\n",
      "---\n",
      "Lilly Wood & The Prick\n",
      "https://lastfm.freetls.fastly.net/i/u/300x300/2a96cbd8b46e442fc41c2b86b821562f.png\n",
      "---\n",
      "LIL DUSTY G\n",
      "https://lastfm.freetls.fastly.net/i/u/300x300/2a96cbd8b46e442fc41c2b86b821562f.png\n",
      "---\n",
      "Lil Jon & The East Side Boyz\n",
      "https://lastfm.freetls.fastly.net/i/u/300x300/2a96cbd8b46e442fc41c2b86b821562f.png\n",
      "---\n",
      "Lily Chou-Chou\n",
      "https://lastfm.freetls.fastly.net/i/u/300x300/2a96cbd8b46e442fc41c2b86b821562f.png\n",
      "---\n",
      "Lil Revive\n",
      "https://lastfm.freetls.fastly.net/i/u/300x300/2a96cbd8b46e442fc41c2b86b821562f.png\n",
      "---\n",
      "Lil Jon\n",
      "https://lastfm.freetls.fastly.net/i/u/300x300/2a96cbd8b46e442fc41c2b86b821562f.png\n",
      "---\n",
      "Lilac\n",
      "https://lastfm.freetls.fastly.net/i/u/300x300/2a96cbd8b46e442fc41c2b86b821562f.png\n",
      "---\n",
      "Lil Eazzyy\n",
      "https://lastfm.freetls.fastly.net/i/u/300x300/2a96cbd8b46e442fc41c2b86b821562f.png\n",
      "---\n",
      "Fenne Lily\n",
      "https://lastfm.freetls.fastly.net/i/u/300x300/2a96cbd8b46e442fc41c2b86b821562f.png\n",
      "---\n",
      "LIL BO WEEP\n",
      "https://lastfm.freetls.fastly.net/i/u/300x300/2a96cbd8b46e442fc41c2b86b821562f.png\n",
      "---\n",
      "Lil Aaron\n",
      "https://lastfm.freetls.fastly.net/i/u/300x300/2a96cbd8b46e442fc41c2b86b821562f.png\n",
      "---\n",
      "Lil Kleine\n",
      "https://lastfm.freetls.fastly.net/i/u/300x300/2a96cbd8b46e442fc41c2b86b821562f.png\n",
      "---\n",
      "Lil Gotit\n",
      "https://lastfm.freetls.fastly.net/i/u/300x300/2a96cbd8b46e442fc41c2b86b821562f.png\n",
      "---\n",
      "Lily James\n",
      "https://lastfm.freetls.fastly.net/i/u/300x300/2a96cbd8b46e442fc41c2b86b821562f.png\n",
      "---\n",
      "Lil Candy Paint\n",
      "https://lastfm.freetls.fastly.net/i/u/300x300/2a96cbd8b46e442fc41c2b86b821562f.png\n",
      "---\n",
      "Lil Boodang\n",
      "https://lastfm.freetls.fastly.net/i/u/300x300/2a96cbd8b46e442fc41c2b86b821562f.png\n",
      "---\n",
      "Lil Mariko\n",
      "https://lastfm.freetls.fastly.net/i/u/300x300/2a96cbd8b46e442fc41c2b86b821562f.png\n",
      "---\n",
      "Lilly Wood and The Prick\n",
      "https://lastfm.freetls.fastly.net/i/u/300x300/2a96cbd8b46e442fc41c2b86b821562f.png\n",
      "---\n",
      "Lila Downs\n",
      "https://lastfm.freetls.fastly.net/i/u/300x300/2a96cbd8b46e442fc41c2b86b821562f.png\n",
      "---\n",
      "Lil Lotus\n",
      "https://lastfm.freetls.fastly.net/i/u/300x300/2a96cbd8b46e442fc41c2b86b821562f.png\n",
      "---\n",
      "Lil God Dan\n",
      "https://lastfm.freetls.fastly.net/i/u/300x300/2a96cbd8b46e442fc41c2b86b821562f.png\n",
      "---\n",
      "The Tiger Lillies\n",
      "https://lastfm.freetls.fastly.net/i/u/300x300/2a96cbd8b46e442fc41c2b86b821562f.png\n"
     ]
    }
   ],
   "source": [
    "\n",
    "for item in data['results']['artistmatches']['artist']:\n",
    "    print(\"---\")\n",
    "    print(item['name'])\n",
    "    for piece in item['image']:\n",
    "        if piece['size'] == \"extralarge\":\n",
    "            print(piece[\"#text\"])"
   ]
  },
  {
   "attachments": {},
   "cell_type": "markdown",
   "metadata": {},
   "source": [
    "## 4) Find Lil Jon's `mbid` (or anyone else's!).\n",
    "\n",
    "Oftentimes in an API, you can do a few things: you can **search** for items, and you can **see more information** about items. To find more information about the item, you need to use their **unique id**. In this dataset, it's called an `mbid` (MusicBrainz, I think - another company associated with last.fm!).\n",
    "\n",
    "Go through the artists and print their **name and mbid**. Find Lil Jon's `mbid`. I *wanted* Lil Uzi Vert's, but for some reason it isn't there. Then I wanted us to look at Lily Allen's, but I just couldn't bring myself to do that. If you'd rather do someone else, go for it."
   ]
  },
  {
   "cell_type": "code",
   "execution_count": 237,
   "metadata": {},
   "outputs": [
    {
     "name": "stdout",
     "output_type": "stream",
     "text": [
      "LIL UZI VERT \n",
      "LIL PEEP \n",
      "Lil Nas X \n",
      "Lil Baby \n",
      "Lily Allen 6e0c7c0e-cba5-4c2c-a652-38f71ef5785d\n",
      "Lil Yachty \n",
      "Lil' Wayne \n",
      "Lil Tecca \n",
      "Lil Wayne ac9a487a-d9d2-4f27-bb23-0f4686488345\n",
      "Lil Durk c9cd225b-4883-428e-82c2-73e0b6282fb6\n",
      "lil tjay \n",
      "lil skies \n",
      "Lil Darkie \n",
      "Lil Ugly Mane 5f1adfe1-4d07-4141-b181-79e5d379d539\n",
      "lil Mosey \n",
      "Lil B 1550f952-c91b-40d7-9b4d-d26a259ee932\n",
      "LIL PUMP \n",
      "LIL TRACY \n",
      "Lil Keed \n",
      "Lil Dicky 3268f062-6e76-480a-a384-e1dd2a276afb\n",
      "****************************************************\n",
      "Lil' Kim bc1b5c95-e6d6-46b5-957a-5e8908b02c1e\n",
      "****************************************************\n",
      "Lil Xan \n",
      "Lil Shine d4c7d574-c8f8-4c7e-ab45-fc612df367ca\n",
      "Lil Loaded \n",
      "LIL GNAR \n",
      "lilbubblegum \n",
      "lil mabu \n",
      "Lilypichu \n",
      "Lilly Wood & The Prick 1b72331b-3a97-4981-a81c-eeee9c275d28\n",
      "LIL DUSTY G \n",
      "Lil Jon & The East Side Boyz 243c6f61-d83b-4459-bebd-5899df0da111\n",
      "Lily Chou-Chou 5652bb3e-f225-49de-9637-5aa1539b4a7c\n",
      "Lil Revive \n",
      "Lil Jon a95384b1-6aec-468c-ae0d-8c6daf87c4c2\n",
      "Lilac 1967c6ce-95a4-48f0-8ac7-abe637524aee\n",
      "Lil Eazzyy \n",
      "Fenne Lily \n",
      "LIL BO WEEP \n",
      "Lil Aaron \n",
      "Lil Kleine \n",
      "Lil Gotit \n",
      "Lily James \n",
      "Lil Candy Paint \n",
      "Lil Boodang \n",
      "Lil Mariko \n",
      "Lilly Wood and The Prick \n",
      "Lila Downs ad29ae1c-2eda-4071-9dc8-31910e7e546c\n",
      "Lil Lotus \n",
      "Lil God Dan \n",
      "The Tiger Lillies 3ad4f6ec-253f-4050-8849-ca26266edfb8\n"
     ]
    }
   ],
   "source": [
    "#Found Lil Kim's instead\n",
    "for ident in data['results']['artistmatches']['artist']:\n",
    "    if ident['name'] == \"Lil' Kim\":\n",
    "        print(\"****************************************************\")\n",
    "        print(ident['name'], ident['mbid'])\n",
    "        Lil_Kim_mbid = ident['mbid']\n",
    "        print(\"****************************************************\")\n",
    "    else:\n",
    "        print(ident['name'], ident['mbid'])\n",
    "    "
   ]
  },
  {
   "attachments": {},
   "cell_type": "markdown",
   "metadata": {
    "collapsed": true
   },
   "source": [
    "## 5) Find the artist's name and bio using their `mbid`.\n",
    "\n",
    "It can either be Lil Jon or whoever you selected above.\n",
    "\n",
    "If you look at the [last.fm documentation](http://www.last.fm/api/show/artist.getInfo), you can see how to use the artist's `mbid` to find more information about them. Print **every tag associated with your artist**.\n",
    "\n",
    "- *Tip: It's a new request to the API*\n",
    "- *Tip: Use the `mbid`, and make sure you delete the `&name=Cher` from the sample endpoint*\n",
    "- *Tip: If you use `print` for the bio it looks a little nicer than it would otherwise*"
   ]
  },
  {
   "cell_type": "code",
   "execution_count": 249,
   "metadata": {},
   "outputs": [
    {
     "name": "stdout",
     "output_type": "stream",
     "text": [
      "Lil' Kim\n",
      "Bio:\n",
      "Kimberly Denise Jones, better known by her stage name Lil' Kim, is an American rapper and reality television personality. Born and raised in Brooklyn, New York City, she lived much of her adolescent life on the streets after being expelled from home. In her teens, Jones would freestyle rap, influenced by fellow female hip hop artists like MC Lyte and The Lady of Rage. In 1994, she was discovered by fellow rapper the Notorious B.I.G., who invited her to join his group Junior M. <a href=\"https://www.last.fm/music/Lil%27+Kim\">Read more on Last.fm</a>\n",
      "***\n"
     ]
    }
   ],
   "source": [
    "url2 = f'http://ws.audioscrobbler.com/2.0/?method=artist.getinfo&mbid={Lil_Kim_mbid}&api_key={API_KEY}&format=json'\n",
    "\n",
    "response = requests.get(url2)\n",
    "data_L = response.json()\n",
    "print(data_L['artist']['name'])\n",
    "print(\"Bio:\")\n",
    "print(data_L['artist']['bio']['summary'])\n",
    "print(\"***\")\n",
    "\n",
    "\n",
    "\n",
    "\n",
    "\n",
    "\n",
    "\n",
    "\n",
    "\n",
    "\n",
    "\n",
    "\n",
    "\n",
    "\n"
   ]
  },
  {
   "attachments": {},
   "cell_type": "markdown",
   "metadata": {
    "collapsed": true
   },
   "source": [
    "## 6) Print every tag of that artist"
   ]
  },
  {
   "cell_type": "code",
   "execution_count": 239,
   "metadata": {},
   "outputs": [
    {
     "name": "stdout",
     "output_type": "stream",
     "text": [
      "Tags:\n",
      "Hip-Hop\n",
      "rap\n",
      "hip hop\n",
      "female vocalists\n",
      "rnb\n",
      "***\n"
     ]
    }
   ],
   "source": [
    "print(\"Tags:\")\n",
    "for x in data_L['artist']['tags']['tag']:\n",
    "    print(x['name'])\n",
    "print('***')"
   ]
  },
  {
   "attachments": {},
   "cell_type": "markdown",
   "metadata": {},
   "source": [
    "# GETTING A LITTLE CRAZY\n",
    "\n",
    "So you know your original list of musicians? I want to get tag data for ALL OF THEM. How are we going to do that?\n",
    "\n",
    "## 7) Find the mbids (again)\n",
    "\n",
    "If we have a musician with an mbid of `AAA-AAA-AAA`, we get their info from a url like `http://ws.audioscrobbler.com/blahblah/?api_key=12345&mbid=AAA-AAA-AAA`.\n",
    "\n",
    "|artist|url|\n",
    "|---|---|\n",
    "|`AAA-AAA-AAA`|`http://ws.audioscrobbler.com/blahblah/?api_key=12345&mbid=AAA-AAA-AAA`|\n",
    "|`BBB-BBB-BBB`|`http://ws.audioscrobbler.com/blahblah/?api_key=12345&mbid=BBB-BBB-BBB`|\n",
    "|`CCC-CCC-CCC`|`http://ws.audioscrobbler.com/blahblah/?api_key=12345&mbid=CCC-CCC-CCC`|\n",
    "\n",
    "I guess we should start trying to get a list of all of the mbids.\n",
    "\n",
    "**Loop through your artists, and print out the `mbid` for each artist**\n",
    "\n",
    "- *Tip: You probably need to request your artist search result data again, because you probably saved over `data` with your other API request. Maybe call it `artist_data` this time?*\n",
    "- *Tip: If the artist does NOT have an `mbid`, don't print it.*"
   ]
  },
  {
   "cell_type": "code",
   "execution_count": 240,
   "metadata": {},
   "outputs": [
    {
     "name": "stdout",
     "output_type": "stream",
     "text": [
      "6e0c7c0e-cba5-4c2c-a652-38f71ef5785d\n",
      "ac9a487a-d9d2-4f27-bb23-0f4686488345\n",
      "c9cd225b-4883-428e-82c2-73e0b6282fb6\n",
      "5f1adfe1-4d07-4141-b181-79e5d379d539\n",
      "1550f952-c91b-40d7-9b4d-d26a259ee932\n",
      "3268f062-6e76-480a-a384-e1dd2a276afb\n",
      "bc1b5c95-e6d6-46b5-957a-5e8908b02c1e\n",
      "d4c7d574-c8f8-4c7e-ab45-fc612df367ca\n",
      "1b72331b-3a97-4981-a81c-eeee9c275d28\n",
      "243c6f61-d83b-4459-bebd-5899df0da111\n",
      "5652bb3e-f225-49de-9637-5aa1539b4a7c\n",
      "a95384b1-6aec-468c-ae0d-8c6daf87c4c2\n",
      "1967c6ce-95a4-48f0-8ac7-abe637524aee\n",
      "ad29ae1c-2eda-4071-9dc8-31910e7e546c\n",
      "3ad4f6ec-253f-4050-8849-ca26266edfb8\n"
     ]
    }
   ],
   "source": [
    "for ident in data['results']['artistmatches']['artist']:\n",
    "        if ident['mbid']!=\"\":\n",
    "            print(ident['mbid'])"
   ]
  },
  {
   "attachments": {},
   "cell_type": "markdown",
   "metadata": {},
   "source": [
    "Your results should look something like\n",
    "\n",
    "```\n",
    "6e0c7c0e-cba5-4c2c-a652-38f71ef5785d\n",
    "1550f952-c91b-40d7-9b4d-d26a259ee932\n",
    "1b72331b-3a97-4981-a81c-eeee9c275d28\n",
    "5f1adfe1-4d07-4141-b181-79e5d379d539\n",
    "a95384b1-6aec-468c-ae0d-8c6daf87c4c2\n",
    "bc1b5c95-e6d6-46b5-957a-5e8908b02c1e\n",
    "243c6f61-d83b-4459-bebd-5899df0da111\n",
    "```"
   ]
  },
  {
   "attachments": {},
   "cell_type": "markdown",
   "metadata": {},
   "source": [
    "## 8) Saving those mbids\n",
    "\n",
    "For those `mbid` values, instead of printing them out, save them to a new list of just mbid values. Call this list `mbids`.\n",
    "\n",
    "- *Tip: Use `.append` to add a single element onto a list*"
   ]
  },
  {
   "cell_type": "code",
   "execution_count": 241,
   "metadata": {},
   "outputs": [
    {
     "name": "stdout",
     "output_type": "stream",
     "text": [
      "['6e0c7c0e-cba5-4c2c-a652-38f71ef5785d', 'ac9a487a-d9d2-4f27-bb23-0f4686488345', 'c9cd225b-4883-428e-82c2-73e0b6282fb6', '5f1adfe1-4d07-4141-b181-79e5d379d539', '1550f952-c91b-40d7-9b4d-d26a259ee932', '3268f062-6e76-480a-a384-e1dd2a276afb', 'bc1b5c95-e6d6-46b5-957a-5e8908b02c1e', 'd4c7d574-c8f8-4c7e-ab45-fc612df367ca', '1b72331b-3a97-4981-a81c-eeee9c275d28', '243c6f61-d83b-4459-bebd-5899df0da111', '5652bb3e-f225-49de-9637-5aa1539b4a7c', 'a95384b1-6aec-468c-ae0d-8c6daf87c4c2', '1967c6ce-95a4-48f0-8ac7-abe637524aee', 'ad29ae1c-2eda-4071-9dc8-31910e7e546c', '3ad4f6ec-253f-4050-8849-ca26266edfb8']\n"
     ]
    }
   ],
   "source": [
    "mbid_list = []\n",
    "for ident in data['results']['artistmatches']['artist']:\n",
    "        if ident['mbid']!=\"\":\n",
    "            mbid_list.append(ident['mbid'])\n",
    "print(mbid_list)"
   ]
  },
  {
   "attachments": {},
   "cell_type": "markdown",
   "metadata": {},
   "source": [
    "Your results should look something like\n",
    "\n",
    "```['6e0c7c0e-cba5-4c2c-a652-38f71ef5785d',\n",
    " '1550f952-c91b-40d7-9b4d-d26a259ee932',\n",
    " '1b72331b-3a97-4981-a81c-eeee9c275d28',\n",
    " '5f1adfe1-4d07-4141-b181-79e5d379d539',\n",
    " 'a95384b1-6aec-468c-ae0d-8c6daf87c4c2',\n",
    " 'bc1b5c95-e6d6-46b5-957a-5e8908b02c1e',\n",
    " '243c6f61-d83b-4459-bebd-5899df0da111',\n",
    " '8ba17cf6-bec2-4ae4-9820-b1cda47adc08',\n",
    " 'ad29ae1c-2eda-4071-9dc8-31910e7e546c',\n",
    " '3268f062-6e76-480a-a384-e1dd2a276afb',\n",
    " '3ad4f6ec-253f-4050-8849-ca26266edfb8',\n",
    " '9b5ce0c1-1bc0-4ea2-a8d3-f5ee7af9eda8',\n",
    " '981d39fc-bd00-4cc6-ac67-6410f8b89098',\n",
    " 'b89f4c50-72f5-48ce-b08c-a643b191b24f',\n",
    " 'bc21df5c-3d79-479b-b638-8ddb5ecea403',\n",
    " 'c9cd225b-4883-428e-82c2-73e0b6282fb6',\n",
    " '9acaf734-b380-4c48-954c-a2cf1d7990a9',\n",
    " 'd4d5ae85-700c-4a55-8a39-7f923da07ef2',\n",
    " '77fafce8-a32f-4d42-bdce-266bbf913cee',\n",
    " '50ad1cde-1536-4268-a55f-e47a7b8280ab',\n",
    " '9803d120-716d-45ba-9eb7-9a120813f908',\n",
    " 'b27560ea-2783-4a91-be45-9e8711917562',\n",
    " '194e87c9-b3fe-4fbd-82a7-8c54b4dd4c76',\n",
    " 'fd90af91-ed07-4e85-8816-26c954fe5286',\n",
    " '5652bb3e-f225-49de-9637-5aa1539b4a7c']```"
   ]
  },
  {
   "attachments": {},
   "cell_type": "markdown",
   "metadata": {},
   "source": [
    "## 9) Printing our API urls\n",
    "\n",
    "To get tag data for each artist, you need to use those `mbid` values to access their artist page on the API. Loop through the mbids, displying the URL you'll need to access.\n",
    "\n",
    "- *Tip: You don't want to use a comma when printing, because commas add spaces into your text and URLs can't have that*\n",
    "- *Tip: Make sure your URL has `artist.getinfo` in it - if not, you're using the wrong endpoint.*"
   ]
  },
  {
   "cell_type": "code",
   "execution_count": 242,
   "metadata": {},
   "outputs": [],
   "source": [
    "for i in mbid_list:\n",
    "    i\n",
    "    url = (f'http://ws.audioscrobbler.com/2.0/?method=artist.getinfo&mbid={i}&api_key={API_KEY}&format=json')\n",
    "    #print(url)"
   ]
  },
  {
   "attachments": {},
   "cell_type": "markdown",
   "metadata": {},
   "source": [
    "Your results should look something like\n",
    "\n",
    "```http://ws.audioscrobbler.com/2.0/?method=artist.getinfo&api_key=XXXXX&format=json&mbid=6e0c7c0e-cba5-4c2c-a652-38f71ef5785d\n",
    "http://ws.audioscrobbler.com/2.0/?method=artist.getinfo&api_key=XXXXX&format=json&mbid=1550f952-c91b-40d7-9b4d-d26a259ee932\n",
    "http://ws.audioscrobbler.com/2.0/?method=artist.getinfo&api_key=XXXXX&format=json&mbid=1b72331b-3a97-4981-a81c-eeee9c275d28\n",
    "http://ws.audioscrobbler.com/2.0/?method=artist.getinfo&api_key=XXXXX&format=json&mbid=5f1adfe1-4d07-4141-b181-79e5d379d539\n",
    "http://ws.audioscrobbler.com/2.0/?method=artist.getinfo&api_key=XXXXX&format=json&mbid=a95384b1-6aec-468c-ae0d-8c6daf87c4c2\n",
    "http://ws.audioscrobbler.com/2.0/?method=artist.getinfo&api_key=XXXXX&format=json&mbid=bc1b5c95-e6d6-46b5-957a-5e8908b02c1e```"
   ]
  },
  {
   "attachments": {},
   "cell_type": "markdown",
   "metadata": {},
   "source": [
    "## OKAY HERE IS A LITTLE INFORMATION: Using our API urls\n",
    "\n",
    "This time instead of just *displaying* the URL, we're going to *request and process it*. "
   ]
  },
  {
   "attachments": {},
   "cell_type": "markdown",
   "metadata": {},
   "source": [
    "## 10) Using the first three `mbids`, request the API urls and print the artist's name.\n",
    "\n",
    "You built the URLs in the last question, now it's time to use them! Use `requests` etc to grab the URL and get out the artist's name.\n",
    "\n",
    "- *Tip: The code is the same as last time you got an artist's name from their info page, it's just going to be inside of a loop*\n",
    "- *Tip: USE `PRINT` TO SEE WHAT YOU ARE LOOKING AT!!!!!*"
   ]
  },
  {
   "cell_type": "code",
   "execution_count": 245,
   "metadata": {},
   "outputs": [
    {
     "name": "stdout",
     "output_type": "stream",
     "text": [
      "*****************************\n",
      "Lily Allen\n",
      "*****************************\n",
      "Lil Wayne\n",
      "*****************************\n",
      "Lil Durk\n"
     ]
    }
   ],
   "source": [
    "\n",
    "for i in mbid_list[:3]:\n",
    "    url = (f'http://ws.audioscrobbler.com/2.0/?method=artist.getinfo&mbid={i}&api_key={API_KEY}&format=json')\n",
    "    response=requests.get(url)\n",
    "    data = response.json()\n",
    "    print(\"*****************************\")\n",
    "    print(data['artist']['name'])\n",
    "   \n"
   ]
  },
  {
   "attachments": {},
   "cell_type": "markdown",
   "metadata": {},
   "source": [
    "## 11) Using the first three `mbids`, request the API urls and print the artist's name and their tags\n",
    "\n",
    "- *Tip: The code is the same as last time you got an artist's name from their info page, it's just going to be inside of a loop*\n",
    "- *Tip: It's a for loop in a for loop!*"
   ]
  },
  {
   "cell_type": "code",
   "execution_count": 246,
   "metadata": {},
   "outputs": [
    {
     "name": "stdout",
     "output_type": "stream",
     "text": [
      "***********************************\n",
      "Lily Allen\n",
      "Tags:\n",
      "pop\n",
      "female vocalists\n",
      "british\n",
      "britpop\n",
      "singer-songwriter\n",
      "***********************************\n",
      "Lil Wayne\n",
      "Tags:\n",
      "rap\n",
      "Hip-Hop\n",
      "hip hop\n",
      "Gangsta Rap\n",
      "Dirty South\n",
      "***********************************\n",
      "Lil Durk\n",
      "Tags:\n",
      "rap\n",
      "Hip-Hop\n",
      "drill\n",
      "trap\n",
      "hip hop\n",
      "***********************************\n",
      "Lil Ugly Mane\n",
      "Tags:\n",
      "Hip-Hop\n",
      "memphis rap\n",
      "Lo-Fi\n",
      "Gangsta Rap\n",
      "Trill Shit\n",
      "***********************************\n",
      "Lil B\n",
      "Tags:\n",
      "based\n",
      "Hip-Hop\n",
      "swag\n",
      "real recognize real and this nigga the realest\n",
      "rap\n",
      "***********************************\n",
      "Lil Dicky\n",
      "Tags:\n",
      "Hip-Hop\n",
      "rap\n",
      "comedy\n",
      "hip hop\n",
      "seen live\n",
      "***********************************\n",
      "Lil' Kim\n",
      "Tags:\n",
      "Hip-Hop\n",
      "rap\n",
      "hip hop\n",
      "female vocalists\n",
      "rnb\n",
      "***********************************\n",
      "Lil Shine\n",
      "Tags:\n",
      "trap\n",
      "cloud rap\n",
      "plugg\n",
      "pluggnb\n",
      "Hip-Hop\n",
      "***********************************\n",
      "Lilly Wood & The Prick\n",
      "Tags:\n",
      "french\n",
      "indie\n",
      "indie pop\n",
      "folk\n",
      "female vocalists\n",
      "***********************************\n",
      "Lil Jon & The East Side Boyz\n",
      "Tags:\n",
      "Crunk\n",
      "rap\n",
      "Hip-Hop\n",
      "Dirty South\n",
      "hip hop\n"
     ]
    }
   ],
   "source": [
    "for i in mbid_list[:10]:\n",
    "    url = (f'http://ws.audioscrobbler.com/2.0/?method=artist.getinfo&mbid={i}&api_key={API_KEY}&format=json')\n",
    "    response=requests.get(url)\n",
    "    data = response.json()\n",
    "    print(\"***********************************\")\n",
    "    print(data['artist']['name'])\n",
    "    print(\"Tags:\")\n",
    "    for x in data['artist']['tags']['tag']:\n",
    "        print(x['name'])\n"
   ]
  },
  {
   "attachments": {},
   "cell_type": "markdown",
   "metadata": {},
   "source": [
    "## 12) Using the first ten mbids, print the artist's name and whether they're a rapper\n",
    "\n",
    "Only print their name ONCE and only print whether they are hip hop or not ONCE.\n",
    "\n",
    "- *Tip: Rap tags include hip hop, swag, crunk, rap, dirty south, and probably a bunch of other stuff! You can include as many categories as you'd like.*\n",
    "- *Tip: You can use `2 in [1, 2, 3]` to find out if `2` is in the list of `[1, 2, 3]`.*\n",
    "- *Tip: Every time you look at a new artist, you can say they are NOT a rapper. And once you find out one of their tags is hip hop or rap, then you can note that they're a rapper. Then once you're done looking at their tags, then you can say HEY this is a rapper, or HEY this is not a rapper.*"
   ]
  },
  {
   "cell_type": "code",
   "execution_count": 247,
   "metadata": {},
   "outputs": [
    {
     "name": "stdout",
     "output_type": "stream",
     "text": [
      "***********************************\n",
      "Lily Allen\n",
      "This is not a rapper\n",
      "***********************************\n",
      "Lil Wayne\n",
      "This is a rapper\n",
      "***********************************\n",
      "Lil Durk\n",
      "This is a rapper\n",
      "***********************************\n",
      "Lil Ugly Mane\n",
      "This is a rapper\n",
      "***********************************\n",
      "Lil B\n",
      "This is a rapper\n",
      "***********************************\n",
      "Lil Dicky\n",
      "This is a rapper\n",
      "***********************************\n",
      "Lil' Kim\n",
      "This is a rapper\n",
      "***********************************\n",
      "Lil Shine\n",
      "This is a rapper\n",
      "***********************************\n",
      "Lilly Wood & The Prick\n",
      "This is not a rapper\n",
      "***********************************\n",
      "Lil Jon & The East Side Boyz\n",
      "This is a rapper\n"
     ]
    }
   ],
   "source": [
    "rappers = []\n",
    "not_rappers = []\n",
    "for i in mbid_list[:10]:\n",
    "    url = (f'http://ws.audioscrobbler.com/2.0/?method=artist.getinfo&mbid={i}&api_key={API_KEY}&format=json')\n",
    "    response=requests.get(url)\n",
    "    data = response.json()\n",
    "    print(\"***********************************\")\n",
    "    print(data['artist']['name'])\n",
    "    rap_tags = ['hip hop','Hip-Hop','rap','trap','Gangsta rap','Dirty South']\n",
    "    rap_god = False\n",
    "    for x in data['artist']['tags']['tag']:\n",
    "        if x['name'] in rap_tags:\n",
    "            rap_god = True\n",
    "            break\n",
    "        \n",
    "    if rap_god:\n",
    "        print(\"This is a rapper\")\n",
    "        rappers.append(data['artist']['name'])\n",
    "    else:\n",
    "        print(\"This is not a rapper\")\n",
    "        not_rappers.append(data['artist']['name'])\n",
    "              \n",
    "\n",
    "\n",
    "\n",
    "\n",
    "            "
   ]
  },
  {
   "attachments": {},
   "cell_type": "markdown",
   "metadata": {},
   "source": [
    "Your results might look something like\n",
    "\n",
    "```ARTIST: Lily Allen\n",
    "NO hip hop\n",
    "ARTIST: Lil B\n",
    "YES hip hop\n",
    "ARTIST: Lilly Wood & The Prick\n",
    "NO hip hop\n",
    "ARTIST: Lil Ugly Mane\n",
    "YES hip hop\n",
    "ARTIST: Lil Jon\n",
    "YES hip hop\n",
    "ARTIST: Lil' Kim\n",
    "YES hip hop\n",
    "ARTIST: Lil Jon & The East Side Boyz\n",
    "YES hip hop\n",
    "```"
   ]
  },
  {
   "attachments": {},
   "cell_type": "markdown",
   "metadata": {
    "collapsed": true
   },
   "source": [
    "## 13) What percent of \"lil\" results are rappers?"
   ]
  },
  {
   "cell_type": "code",
   "execution_count": 248,
   "metadata": {},
   "outputs": [
    {
     "name": "stdout",
     "output_type": "stream",
     "text": [
      "80.0%\n"
     ]
    }
   ],
   "source": [
    "rapper_percent = len(rappers)/(len(rappers)+len(not_rappers))*100\n",
    "print(f'{rapper_percent}%')\n",
    "\n"
   ]
  }
 ],
 "metadata": {
  "kernelspec": {
   "display_name": "Python 3",
   "language": "python",
   "name": "python3"
  },
  "language_info": {
   "codemirror_mode": {
    "name": "ipython",
    "version": 3
   },
   "file_extension": ".py",
   "mimetype": "text/x-python",
   "name": "python",
   "nbconvert_exporter": "python",
   "pygments_lexer": "ipython3",
   "version": "3.10.3"
  }
 },
 "nbformat": 4,
 "nbformat_minor": 1
}
